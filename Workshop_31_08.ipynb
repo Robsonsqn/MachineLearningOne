{
  "nbformat": 4,
  "nbformat_minor": 0,
  "metadata": {
    "colab": {
      "name": "Workshop 31/08.ipynb",
      "version": "0.3.2",
      "provenance": []
    },
    "kernelspec": {
      "name": "python3",
      "display_name": "Python 3"
    }
  },
  "cells": [
    {
      "cell_type": "code",
      "metadata": {
        "id": "sF_6nDWY2xlJ",
        "colab_type": "code",
        "colab": {}
      },
      "source": [
        "from sklearn.naive_bayes import MultinomialNB\n",
        "from sklearn.ensemble import AdaBoostClassifier\n",
        "from collections import Counter\n",
        "\n",
        "import pandas as pd"
      ],
      "execution_count": 0,
      "outputs": []
    },
    {
      "cell_type": "markdown",
      "metadata": {
        "id": "sKF4a04z_Jjn",
        "colab_type": "text"
      },
      "source": [
        ""
      ]
    },
    {
      "cell_type": "code",
      "metadata": {
        "id": "z_IBQla93TA2",
        "colab_type": "code",
        "colab": {}
      },
      "source": [
        "__modelo = MultinomialNB()"
      ],
      "execution_count": 0,
      "outputs": []
    },
    {
      "cell_type": "code",
      "metadata": {
        "id": "NpBCODAn_IyY",
        "colab_type": "code",
        "colab": {}
      },
      "source": [
        "__modeloAda = AdaBoostClassifier()"
      ],
      "execution_count": 0,
      "outputs": []
    },
    {
      "cell_type": "code",
      "metadata": {
        "id": "2j1nEgxs3Xg0",
        "colab_type": "code",
        "colab": {}
      },
      "source": [
        "__porcentagem_treino = 0.8\n",
        "__porcentagem_teste = 1 - __porcentagem_treino"
      ],
      "execution_count": 0,
      "outputs": []
    },
    {
      "cell_type": "code",
      "metadata": {
        "id": "F2aFV4I94vef",
        "colab_type": "code",
        "colab": {}
      },
      "source": [
        "def read_with_pandas_x_dummies(fileName, yname, xname):\n",
        "    df = pd.read_csv(fileName+'.csv')\n",
        "    y_df = df[yname]\n",
        "    x_df = df[xname]\n",
        "    x_dummies_df = pd.get_dummies(x_df)\n",
        "    y_dummies_df = pd.get_dummies(y_df)\n",
        "    x = x_dummies_df.values\n",
        "    y = y_dummies_df[0].values\n",
        "    return x, y"
      ],
      "execution_count": 0,
      "outputs": []
    },
    {
      "cell_type": "code",
      "metadata": {
        "id": "c3bS1RsW9VHS",
        "colab_type": "code",
        "colab": {}
      },
      "source": [
        "def analize(y_array):\n",
        "    maior = max(Counter(y_array).values())\n",
        "    taxa_acerto_base = 100.0 * maior / len(y_array)\n",
        "    print('==============================')\n",
        "    print('Modelo treinado Base')\n",
        "    print(taxa_acerto_base, '%')\n",
        "    print('==============================')"
      ],
      "execution_count": 0,
      "outputs": []
    },
    {
      "cell_type": "code",
      "metadata": {
        "id": "9ioIDQIc94AP",
        "colab_type": "code",
        "colab": {}
      },
      "source": [
        "def __testar_modelos(x, y):\n",
        "    x_teste = x[-(int(len(x) * __porcentagem_teste)):]\n",
        "    y_teste = y[-(int(len(y) * __porcentagem_teste)):]\n",
        "    resultado = __modelo.predict(x_teste)\n",
        "    resultadoAda = __modeloAda.predict(x_teste)\n",
        "    diferencas = resultado - y_teste\n",
        "    diferencasAda = resultadoAda - y_teste\n",
        "    acertos = [d for d in diferencas if d == 0]\n",
        "    acertosAda = [d for d in diferencasAda if d == 0]\n",
        "    taxa_acerto = 100 * len(acertos) / len(x_teste)\n",
        "    taxa_acertoAda = 100 * len(acertosAda) / len(x_teste)\n",
        "    return taxa_acerto, acertos, taxa_acertoAda, acertosAda"
      ],
      "execution_count": 0,
      "outputs": []
    },
    {
      "cell_type": "code",
      "metadata": {
        "id": "DttOpHs64hNY",
        "colab_type": "code",
        "colab": {}
      },
      "source": [
        "x, y = read_with_pandas_x_dummies('buscas', 'comprou', ['home', 'busca', 'logado'])\n",
        "x_fit = x[:int(len(x)*__porcentagem_treino)]\n",
        "y_fit = y[:int(len(y)*__porcentagem_treino)]"
      ],
      "execution_count": 0,
      "outputs": []
    },
    {
      "cell_type": "code",
      "metadata": {
        "id": "QhSdj25k9NSR",
        "colab_type": "code",
        "outputId": "d9e26cd2-ccd1-4fe7-95a5-871b80e31cc2",
        "colab": {
          "base_uri": "https://localhost:8080/",
          "height": 50
        }
      },
      "source": [
        "__modelo.fit(x_fit, y_fit)\n",
        "__modeloAda.fit(x_fit, y_fit)"
      ],
      "execution_count": 0,
      "outputs": [
        {
          "output_type": "execute_result",
          "data": {
            "text/plain": [
              "AdaBoostClassifier(algorithm='SAMME.R', base_estimator=None, learning_rate=1.0,\n",
              "                   n_estimators=50, random_state=None)"
            ]
          },
          "metadata": {
            "tags": []
          },
          "execution_count": 7
        }
      ]
    },
    {
      "cell_type": "code",
      "metadata": {
        "id": "8L3PR-N99k6N",
        "colab_type": "code",
        "colab": {}
      },
      "source": [
        "taxa_acerto, acertos, taxa_acertoAda, acertosAda = __testar_modelos(x, y)"
      ],
      "execution_count": 0,
      "outputs": []
    },
    {
      "cell_type": "code",
      "metadata": {
        "id": "q7E8aIxy9gbu",
        "colab_type": "code",
        "outputId": "6b8c4ed9-c99d-415f-cd8c-4d6befa38b4e",
        "colab": {
          "base_uri": "https://localhost:8080/",
          "height": 84
        }
      },
      "source": [
        "analize(y_fit)"
      ],
      "execution_count": 0,
      "outputs": [
        {
          "output_type": "stream",
          "text": [
            "==============================\n",
            "Modelo treinado Base\n",
            "83.5 %\n",
            "==============================\n"
          ],
          "name": "stdout"
        }
      ]
    },
    {
      "cell_type": "code",
      "metadata": {
        "id": "CA8Se0vi98TB",
        "colab_type": "code",
        "outputId": "4876eb2d-a941-45e2-baba-d33d5e5858b4",
        "colab": {
          "base_uri": "https://localhost:8080/",
          "height": 84
        }
      },
      "source": [
        "print('==============================')\n",
        "print('Modelo treinado MultinomialNB')\n",
        "print('Taxa de acerto = ', round(taxa_acerto, 2), '%')\n",
        "print('==============================')"
      ],
      "execution_count": 0,
      "outputs": [
        {
          "output_type": "stream",
          "text": [
            "==============================\n",
            "Modelo treinado MultinomialNB\n",
            "Taxa de acerto =  82.41 %\n",
            "==============================\n"
          ],
          "name": "stdout"
        }
      ]
    },
    {
      "cell_type": "code",
      "metadata": {
        "id": "egQJ3Kv5-BDb",
        "colab_type": "code",
        "outputId": "e911ba19-eb49-4cfe-9015-f50ee0c49ea7",
        "colab": {
          "base_uri": "https://localhost:8080/",
          "height": 84
        }
      },
      "source": [
        "print('==============================') \n",
        "print('Modelo treinado AdaBoostClassifier')\n",
        "print('Taxa de acerto = ', round(taxa_acertoAda, 2), '%')\n",
        "print('==============================')"
      ],
      "execution_count": 0,
      "outputs": [
        {
          "output_type": "stream",
          "text": [
            "==============================\n",
            "Modelo treinado AdaBoostClassifier\n",
            "Taxa de acerto =  84.92 %\n",
            "==============================\n"
          ],
          "name": "stdout"
        }
      ]
    }
  ]
}